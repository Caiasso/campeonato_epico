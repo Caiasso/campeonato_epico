{
  "nbformat": 4,
  "nbformat_minor": 0,
  "metadata": {
    "colab": {
      "provenance": []
    },
    "kernelspec": {
      "name": "python3",
      "display_name": "Python 3"
    },
    "language_info": {
      "name": "python"
    }
  },
  "cells": [
    {
      "cell_type": "markdown",
      "source": [
        "# Campeonato épico de Pedra-Papel-Tesoura\n",
        "---"
      ],
      "metadata": {
        "id": "5xEU04wTvYnI"
      }
    },
    {
      "cell_type": "markdown",
      "source": [
        "##### Desenvolvido por Guilherme Henrique Caiasso e Mell Amisa Matsuda\n",
        "\n",
        "## Descrição\n",
        "\n",
        "O presente projeto é um campeonato do jogo Pedra-Papel-Tesoura utilizando a linguagem de programação Python. A dinâmica do campeonato é baseada em rodadas, onde a ordem dos jogadores é sorteada a cada rodada para competirem em pares. O projeto utiliza uma planilha chamada \"campeonato.csv\", que contém informações sobre os jogadores e as jogadas disponíveis.\n",
        "\n",
        "Trabalho realizado para a disciplina de Tópicos Especiais em Programação I.\n",
        "\n",
        "## Instrução\n",
        "\n",
        "Execute a célula abaixo para importar as bibliotecas ```pandas``` e ```random```, e definir os métodos ```jogo``` e ```classifica```.\n"
      ],
      "metadata": {
        "id": "X4ze5ka9tGZr"
      }
    },
    {
      "cell_type": "code",
      "source": [
        "# Importando bibliotecas Pandas e Random\n",
        "import pandas as pd\n",
        "import random\n",
        "\n",
        "\n",
        "# Definindo a função Jogo\n",
        "def jogo(jogador1, opt1, jogador2, opt2):\n",
        "\n",
        "  # Criando variáveis para pontuação dos jogadores\n",
        "  pt1 = 0\n",
        "  pt2 = 0\n",
        "\n",
        "  # Laço que repete o jogo por um número n, sendo 7 no caso da tabela de 8  jogos\n",
        "  # Tentamos utilizar len(tabela), mas isso levaria à passagem da tabela por parâmetro, saindo das regras do trabalho\n",
        "  for i in range(7):\n",
        "\n",
        "    if(opt1 == 'Pedra' and opt2 == 'Tesoura') or (opt1 == 'Papel' and opt2 == 'Pedra') or (opt1 == 'Tesoura' and opt2 == 'Papel'):\n",
        "        pt1 += 1\n",
        "    elif(opt2 == 'Pedra' and opt1 == 'Tesoura') or (opt2 == 'Papel' and opt1 == 'Pedra') or (opt2 == 'Tesoura' and opt1 == 'Papel'):\n",
        "        pt2 += 2\n",
        "\n",
        "  # Comparando o resultado final dos jogadores e posição lexicográfica de seus nomes em caso de empate\n",
        "  if(pt1 > pt2):\n",
        "    ganhador = jogador1\n",
        "  elif(pt2 > pt1):\n",
        "    ganhador = jogador2\n",
        "  elif(jogador1 < jogador2):\n",
        "    ganhador = jogador1\n",
        "  else:\n",
        "    ganhador = jogador2\n",
        "\n",
        "  # Retornando o vencedor desta partida\n",
        "  return ganhador\n",
        "\n",
        "\n",
        "# Definindo a função Classifica, que realiza os jogos e atualizando parcialmente o dataframe Tabela removendo os perdedores até o último jogador\n",
        "def Classifica(Campeonato):\n",
        "\n",
        "  global ordem\n",
        "  global jogo\n",
        "  global tabela\n",
        "\n",
        "  ganhadores = []\n",
        "\n",
        "  j = 0\n",
        "  for i in range(0, len(ordem) -1, 2):\n",
        "    Campeonato.loc[j, 'Jogador 1'] = ordem[i]\n",
        "    Campeonato.loc[j, 'Jogador 2'] = ordem[i+1]\n",
        "    j += 1\n",
        "\n",
        "  for i in range(len(Campeonato)):\n",
        "    jogador1 = Campeonato.loc[i, 'Jogador 1']\n",
        "    jogador2 = Campeonato.loc[i, 'Jogador 2']\n",
        "\n",
        "    opt1 = tabela.loc[i, jogador1]\n",
        "    opt2 = tabela.loc[i, jogador2]\n",
        "\n",
        "    ganhador = jogo(jogador1, opt1, jogador2, opt2)\n",
        "\n",
        "    ganhadores.append(ganhador)\n",
        "    Campeonato.loc[i, 'Resultado'] = ganhador\n",
        "\n",
        "  tabela = tabela[tabela.columns[tabela.columns.isin(ganhadores)]]\n",
        "\n",
        "  return tabela"
      ],
      "metadata": {
        "id": "q73m5AuDedKR"
      },
      "execution_count": null,
      "outputs": []
    },
    {
      "cell_type": "markdown",
      "source": [
        "Execute a célula abaixo sempre antes de iniciar um novo jogo, será impresso a ordem dos jogadores."
      ],
      "metadata": {
        "id": "-mll-19JoyuR"
      }
    },
    {
      "cell_type": "code",
      "source": [
        "# Importando a tabela do campeonato\n",
        "tabela = pd.read_csv('campeonato.csv')\n",
        "\n",
        "# Removendo a coluna vazia da tabela\n",
        "tabela = tabela.drop(columns=['Unnamed: 0'])\n",
        "\n",
        "# Criando o dataframe Campeonato, com Jogador 1, Jogador 2 e Resultado\n",
        "CampDict = {'Jogador 1': [], 'Jogador 2': [], 'Resultado': []}\n",
        "Campeonato = pd.DataFrame(data = CampDict)\n",
        "\n",
        "# Sorteando a ordem dos jogadores\n",
        "ordem = tabela.columns.tolist()\n",
        "random.shuffle(ordem)\n",
        "\n",
        "# Imprimindo a ordem para checar a funcionalidade\n",
        "print(ordem)"
      ],
      "metadata": {
        "id": "NvpINfwWeP3o"
      },
      "execution_count": null,
      "outputs": []
    },
    {
      "cell_type": "markdown",
      "source": [
        "A célula seguinte é responsável por realizar as partidas. Compile o bloco repetidamente até chegar ao grande vencedor, ao longo deste processo, serão apresentadas tabelas contendo as rodadas atuais, jogadores e vencedores."
      ],
      "metadata": {
        "id": "k1FwF7DKwceG"
      }
    },
    {
      "cell_type": "code",
      "source": [
        "# Implementando rotina que realiza as partidas, repetindo os passos iniciais e a função Classifica para atualizar efetivamente a tabela\n",
        "if(len(Campeonato) > 0):\n",
        "  ordem = tabela.columns.tolist()\n",
        "  random.shuffle(ordem)\n",
        "  CampDict = {'Jogador 1': [], 'Jogador 2': [], 'Resultado': []}\n",
        "  Campeonato = pd.DataFrame(data = CampDict)\n",
        "\n",
        "tabela = Classifica(Campeonato)\n",
        "\n",
        "if(len(Campeonato) == 1):\n",
        "  print(\"\\t     CAMPEONATO ÉPICO\\n\")\n",
        "  display(Campeonato)\n",
        "  print(\"\\nGRANDE VENCEDOR ÉPICO: \",  Campeonato.loc[0, 'Resultado'])\n",
        "elif(len(Campeonato) < 1):\n",
        "  print(\"\\tFIM DO CAMPEONATO ÉPICO\")\n",
        "else:\n",
        "  print(\"\\t     CAMPEONATO ÉPICO\\n\")\n",
        "  display(Campeonato)"
      ],
      "metadata": {
        "id": "p5MRjG9ziQ1Q"
      },
      "execution_count": null,
      "outputs": []
    }
  ]
}
